{
 "cells": [
  {
   "cell_type": "code",
   "execution_count": 4,
   "metadata": {},
   "outputs": [],
   "source": [
    "import os\n",
    "import praw\n",
    "import time\n",
    "from CONFIG import SUBMISSION_DATA_FIELDS\n",
    "import pandas as pd\n",
    "from datetime import datetime\n",
    "from dotenv import find_dotenv, load_dotenv"
   ]
  },
  {
   "cell_type": "code",
   "execution_count": 5,
   "metadata": {},
   "outputs": [
    {
     "name": "stdout",
     "output_type": "stream",
     "text": [
      "andreaLolli\n"
     ]
    }
   ],
   "source": [
    "load_dotenv(find_dotenv())\n",
    "\n",
    "CLIENT_ID=os.getenv(\"CLIENT_ID\")\n",
    "SECRET_TOKEN=os.getenv(\"SECRET_TOKEN\")\n",
    "USERNAME=os.getenv(\"USERNAME\")\n",
    "PASSWORD=os.getenv(\"PASSWORD\")\n",
    "\n",
    "reddit = praw.Reddit(client_id=CLIENT_ID,\n",
    "                     client_secret=SECRET_TOKEN,\n",
    "                     password=PASSWORD,\n",
    "                     username=USERNAME,\n",
    "                     user_agent='Tutorial')\n",
    "\n",
    "print(reddit.user.me())"
   ]
  },
  {
   "cell_type": "code",
   "execution_count": 6,
   "metadata": {},
   "outputs": [],
   "source": [
    "\n",
    "# Function to search for a query and list subreddits\n",
    "def search_and_list_subreddits(query, limit=10):\n",
    "    # Search Reddit for the query\n",
    "    search_results = reddit.subreddit('all').search(query, limit=limit)\n",
    "    \n",
    "    # Collect the subreddits from the search results\n",
    "    subreddits = [result.subreddit.display_name for result in search_results]\n",
    "\n",
    "    # Print the subreddits\n",
    "    print(f\"Top {limit} subreddits for the query '{query}':\")\n",
    "    return subreddits"
   ]
  },
  {
   "cell_type": "code",
   "execution_count": 10,
   "metadata": {},
   "outputs": [
    {
     "name": "stdout",
     "output_type": "stream",
     "text": [
      "Top 10 subreddits for the query 'Drake OR Kendrick Lamar':\n"
     ]
    }
   ],
   "source": [
    "subreddits_names = search_and_list_subreddits(query=\"Drake OR Kendrick Lamar\")"
   ]
  },
  {
   "cell_type": "code",
   "execution_count": 11,
   "metadata": {},
   "outputs": [],
   "source": [
    "def fetch_submission_data(subreddit_name, keywords, start_timestamp, fields=SUBMISSION_DATA_FIELDS, limit=100):\n",
    "    \"\"\"\n",
    "    Fetches submission data from a given subreddit based on search keywords.\n",
    "\n",
    "    Args:\n",
    "        subreddit_name (str): The name of the subreddit to search in.\n",
    "        keywords (str): The search keywords.\n",
    "        limit (int): The maximum number of search results to fetch.\n",
    "\n",
    "    Returns:\n",
    "        pd.DataFrame: A DataFrame containing submission data.\n",
    "    \"\"\"\n",
    "    submissions_data = []\n",
    "\n",
    "    for submission in reddit.subreddit(subreddit_name).search(keywords, limit=limit):\n",
    "        submission_data = {}\n",
    "        if submission.created_utc > start_timestamp:\n",
    "            for field in fields:\n",
    "                try:\n",
    "                    submission_data[field] = getattr(submission, field, '')\n",
    "                except AttributeError:\n",
    "                    submission_data[field] = ''\n",
    "\n",
    "            submissions_data.append(submission_data)    \n",
    "\n",
    "    return submissions_data"
   ]
  },
  {
   "cell_type": "code",
   "execution_count": 17,
   "metadata": {},
   "outputs": [],
   "source": [
    "submissions_data_raw = []\n",
    "\n",
    "start_date = \"2024-03-22\"\n",
    "time_struct = time.strptime(start_date, \"%Y-%m-%d\")\n",
    "start_timestamp = int(time.mktime(time_struct))\n",
    "\n",
    "for subreddit_name in subreddits_names:\n",
    "    data_raw = fetch_submission_data(\n",
    "        subreddit_name=subreddits_names[0],\n",
    "        start_timestamp=start_timestamp,\n",
    "        keywords=\"Kendrick Lamar AND Drake\",\n",
    "        limit=10000\n",
    "        ) # limit 10 --> 35s for 1 subreddit page\n",
    "\n",
    "    submissions_data_raw.extend(data_raw)\n",
    "\n",
    "df = pd.DataFrame(submissions_data_raw)\n",
    "df.head()"
   ]
  },
  {
   "cell_type": "code",
   "execution_count": 14,
   "metadata": {},
   "outputs": [
    {
     "data": {
      "text/plain": [
       "(180, 27)"
      ]
     },
     "execution_count": 14,
     "metadata": {},
     "output_type": "execute_result"
    }
   ],
   "source": [
    "df.shape"
   ]
  },
  {
   "cell_type": "code",
   "execution_count": 16,
   "metadata": {},
   "outputs": [],
   "source": [
    "df.to_csv(\"data/rap_beef.csv\")"
   ]
  },
  {
   "cell_type": "code",
   "execution_count": 9,
   "metadata": {},
   "outputs": [
    {
     "name": "stdout",
     "output_type": "stream",
     "text": [
      "Converted 'created_utc' values:\n",
      "0   2024-05-04 05:06:47\n",
      "1   2024-05-08 02:05:51\n",
      "2   2024-04-26 18:34:16\n",
      "3   2024-05-14 01:30:17\n",
      "4   2019-02-07 20:06:46\n",
      "Name: created_utc, dtype: datetime64[ns]\n",
      "Sorted DataFrame:\n"
     ]
    },
    {
     "data": {
      "text/html": [
       "<div>\n",
       "<style scoped>\n",
       "    .dataframe tbody tr th:only-of-type {\n",
       "        vertical-align: middle;\n",
       "    }\n",
       "\n",
       "    .dataframe tbody tr th {\n",
       "        vertical-align: top;\n",
       "    }\n",
       "\n",
       "    .dataframe thead th {\n",
       "        text-align: right;\n",
       "    }\n",
       "</style>\n",
       "<table border=\"1\" class=\"dataframe\">\n",
       "  <thead>\n",
       "    <tr style=\"text-align: right;\">\n",
       "      <th></th>\n",
       "      <th>author</th>\n",
       "      <th>author_flair_text</th>\n",
       "      <th>clicked</th>\n",
       "      <th>comments</th>\n",
       "      <th>created_utc</th>\n",
       "      <th>distinguished</th>\n",
       "      <th>edited</th>\n",
       "      <th>id</th>\n",
       "      <th>is_original_content</th>\n",
       "      <th>is_self</th>\n",
       "      <th>...</th>\n",
       "      <th>poll_data</th>\n",
       "      <th>saved</th>\n",
       "      <th>score</th>\n",
       "      <th>selftext</th>\n",
       "      <th>spoiler</th>\n",
       "      <th>stickied</th>\n",
       "      <th>subreddit</th>\n",
       "      <th>title</th>\n",
       "      <th>upvote_ratio</th>\n",
       "      <th>url</th>\n",
       "    </tr>\n",
       "  </thead>\n",
       "  <tbody>\n",
       "    <tr>\n",
       "      <th>0</th>\n",
       "      <td>jammasterajay</td>\n",
       "      <td></td>\n",
       "      <td>False</td>\n",
       "      <td>(efyqywi, efypuiq, efyqte9, efz0yr3, efyriqs, ...</td>\n",
       "      <td>2019-02-07 20:06:46</td>\n",
       "      <td>None</td>\n",
       "      <td>False</td>\n",
       "      <td>ao7881</td>\n",
       "      <td>False</td>\n",
       "      <td>False</td>\n",
       "      <td>...</td>\n",
       "      <td></td>\n",
       "      <td>False</td>\n",
       "      <td>14567</td>\n",
       "      <td></td>\n",
       "      <td>False</td>\n",
       "      <td>False</td>\n",
       "      <td>hiphopheads</td>\n",
       "      <td>Kendrick Lamar, Drake &amp; Childish Gambino all d...</td>\n",
       "      <td>0.99</td>\n",
       "      <td>https://www.nytimes.com/2019/02/07/arts/music/...</td>\n",
       "    </tr>\n",
       "    <tr>\n",
       "      <th>1</th>\n",
       "      <td>FlyGloomy</td>\n",
       "      <td>None</td>\n",
       "      <td>False</td>\n",
       "      <td>(l1dkran, l1e5m9h, l1du44t, l1dsiv5, l1dzrvy, ...</td>\n",
       "      <td>2024-04-26 18:34:16</td>\n",
       "      <td>None</td>\n",
       "      <td>False</td>\n",
       "      <td>1cdpxr5</td>\n",
       "      <td>False</td>\n",
       "      <td>False</td>\n",
       "      <td>...</td>\n",
       "      <td></td>\n",
       "      <td>False</td>\n",
       "      <td>3740</td>\n",
       "      <td></td>\n",
       "      <td>False</td>\n",
       "      <td>False</td>\n",
       "      <td>hiphopheads</td>\n",
       "      <td>Drake Takes Down Kendrick Lamar Diss After Leg...</td>\n",
       "      <td>0.98</td>\n",
       "      <td>https://pitchfork.com/news/drake-takes-down-ke...</td>\n",
       "    </tr>\n",
       "    <tr>\n",
       "      <th>2</th>\n",
       "      <td>Potential_Meat_5103</td>\n",
       "      <td>None</td>\n",
       "      <td>False</td>\n",
       "      <td>(l2i3xba, l2htxo2, l2htwk2, l2hr2ye, l2hrsyb, ...</td>\n",
       "      <td>2024-05-04 05:06:47</td>\n",
       "      <td>None</td>\n",
       "      <td>1714792098.0</td>\n",
       "      <td>1cjqi2e</td>\n",
       "      <td>False</td>\n",
       "      <td>True</td>\n",
       "      <td>...</td>\n",
       "      <td></td>\n",
       "      <td>False</td>\n",
       "      <td>11146</td>\n",
       "      <td>https://www.instagram.com/reel/C6h9xrguXBD/?ig...</td>\n",
       "      <td>False</td>\n",
       "      <td>False</td>\n",
       "      <td>hiphopheads</td>\n",
       "      <td>[SHOTS FIRED] Drake - Family Matters (Kendrick...</td>\n",
       "      <td>0.85</td>\n",
       "      <td>https://www.reddit.com/r/hiphopheads/comments/...</td>\n",
       "    </tr>\n",
       "    <tr>\n",
       "      <th>3</th>\n",
       "      <td>flowerhoney10</td>\n",
       "      <td>None</td>\n",
       "      <td>False</td>\n",
       "      <td>(l3283of, l326ezd, l32878p, l32lz42, l32bsze, ...</td>\n",
       "      <td>2024-05-08 02:05:51</td>\n",
       "      <td>None</td>\n",
       "      <td>False</td>\n",
       "      <td>1cmqv0z</td>\n",
       "      <td>False</td>\n",
       "      <td>False</td>\n",
       "      <td>...</td>\n",
       "      <td></td>\n",
       "      <td>False</td>\n",
       "      <td>4710</td>\n",
       "      <td></td>\n",
       "      <td>False</td>\n",
       "      <td>False</td>\n",
       "      <td>hiphopheads</td>\n",
       "      <td>Can Drake Recover After His Battle With Kendri...</td>\n",
       "      <td>0.89</td>\n",
       "      <td>https://www.billboard.com/music/rb-hip-hop/dra...</td>\n",
       "    </tr>\n",
       "    <tr>\n",
       "      <th>4</th>\n",
       "      <td>KingChipotle</td>\n",
       "      <td></td>\n",
       "      <td>False</td>\n",
       "      <td>(l3xggua, l3xep1z, l3xlhm6, l3xl27p, l3xpftu, ...</td>\n",
       "      <td>2024-05-14 01:30:17</td>\n",
       "      <td>None</td>\n",
       "      <td>False</td>\n",
       "      <td>1crdt3t</td>\n",
       "      <td>False</td>\n",
       "      <td>False</td>\n",
       "      <td>...</td>\n",
       "      <td></td>\n",
       "      <td>False</td>\n",
       "      <td>3413</td>\n",
       "      <td></td>\n",
       "      <td>False</td>\n",
       "      <td>False</td>\n",
       "      <td>hiphopheads</td>\n",
       "      <td>The Drake-Kendrick Lamar social media firestor...</td>\n",
       "      <td>0.96</td>\n",
       "      <td>https://brooklyneagle.com/articles/2024/05/13/...</td>\n",
       "    </tr>\n",
       "  </tbody>\n",
       "</table>\n",
       "<p>5 rows × 27 columns</p>\n",
       "</div>"
      ],
      "text/plain": [
       "                author author_flair_text  clicked  \\\n",
       "0        jammasterajay                      False   \n",
       "1            FlyGloomy              None    False   \n",
       "2  Potential_Meat_5103              None    False   \n",
       "3        flowerhoney10              None    False   \n",
       "4         KingChipotle                      False   \n",
       "\n",
       "                                            comments         created_utc  \\\n",
       "0  (efyqywi, efypuiq, efyqte9, efz0yr3, efyriqs, ... 2019-02-07 20:06:46   \n",
       "1  (l1dkran, l1e5m9h, l1du44t, l1dsiv5, l1dzrvy, ... 2024-04-26 18:34:16   \n",
       "2  (l2i3xba, l2htxo2, l2htwk2, l2hr2ye, l2hrsyb, ... 2024-05-04 05:06:47   \n",
       "3  (l3283of, l326ezd, l32878p, l32lz42, l32bsze, ... 2024-05-08 02:05:51   \n",
       "4  (l3xggua, l3xep1z, l3xlhm6, l3xl27p, l3xpftu, ... 2024-05-14 01:30:17   \n",
       "\n",
       "  distinguished        edited       id  is_original_content  is_self  ...  \\\n",
       "0          None         False   ao7881                False    False  ...   \n",
       "1          None         False  1cdpxr5                False    False  ...   \n",
       "2          None  1714792098.0  1cjqi2e                False     True  ...   \n",
       "3          None         False  1cmqv0z                False    False  ...   \n",
       "4          None         False  1crdt3t                False    False  ...   \n",
       "\n",
       "  poll_data  saved  score                                           selftext  \\\n",
       "0            False  14567                                                      \n",
       "1            False   3740                                                      \n",
       "2            False  11146  https://www.instagram.com/reel/C6h9xrguXBD/?ig...   \n",
       "3            False   4710                                                      \n",
       "4            False   3413                                                      \n",
       "\n",
       "   spoiler  stickied    subreddit  \\\n",
       "0    False     False  hiphopheads   \n",
       "1    False     False  hiphopheads   \n",
       "2    False     False  hiphopheads   \n",
       "3    False     False  hiphopheads   \n",
       "4    False     False  hiphopheads   \n",
       "\n",
       "                                               title  upvote_ratio  \\\n",
       "0  Kendrick Lamar, Drake & Childish Gambino all d...          0.99   \n",
       "1  Drake Takes Down Kendrick Lamar Diss After Leg...          0.98   \n",
       "2  [SHOTS FIRED] Drake - Family Matters (Kendrick...          0.85   \n",
       "3  Can Drake Recover After His Battle With Kendri...          0.89   \n",
       "4  The Drake-Kendrick Lamar social media firestor...          0.96   \n",
       "\n",
       "                                                 url  \n",
       "0  https://www.nytimes.com/2019/02/07/arts/music/...  \n",
       "1  https://pitchfork.com/news/drake-takes-down-ke...  \n",
       "2  https://www.reddit.com/r/hiphopheads/comments/...  \n",
       "3  https://www.billboard.com/music/rb-hip-hop/dra...  \n",
       "4  https://brooklyneagle.com/articles/2024/05/13/...  \n",
       "\n",
       "[5 rows x 27 columns]"
      ]
     },
     "execution_count": 9,
     "metadata": {},
     "output_type": "execute_result"
    }
   ],
   "source": [
    "# Copy the raw DataFrame\n",
    "df = submissions_data_raw.copy()\n",
    "\n",
    "# Convert 'created_utc' from timestamp to datetime\n",
    "df[\"created_utc\"] = df[\"created_utc\"].apply(lambda x: datetime.fromtimestamp(x) if x else None)\n",
    "\n",
    "print(\"Converted 'created_utc' values:\")\n",
    "print(df[\"created_utc\"].head())\n",
    "\n",
    "# Sort the DataFrame by 'created_utc' and reset the index\n",
    "df = df.sort_values(by=[\"created_utc\"]).reset_index(drop=True)\n",
    "\n",
    "# Display the sorted DataFrame\n",
    "print(\"Sorted DataFrame:\")\n",
    "df.head()"
   ]
  },
  {
   "cell_type": "code",
   "execution_count": 10,
   "metadata": {},
   "outputs": [],
   "source": [
    "def extract_ids(comment_list):\n",
    "    l= []\n",
    "    for comment in comment_list:\n",
    "      l.append(str(comment))\n",
    "    return l"
   ]
  },
  {
   "cell_type": "code",
   "execution_count": 26,
   "metadata": {},
   "outputs": [],
   "source": [
    "df[\"comments_str\"] = df[\"comments\"].apply(extract_ids)\n",
    "df[\"count_comments\"] = df[\"comments_str\"].apply(lambda x: len(x))"
   ]
  },
  {
   "cell_type": "code",
   "execution_count": 30,
   "metadata": {},
   "outputs": [
    {
     "data": {
      "text/plain": [
       "'Kendrick Lamar, Drake & Childish Gambino all declined offers to perform at the 2019 Grammys'"
      ]
     },
     "execution_count": 30,
     "metadata": {},
     "output_type": "execute_result"
    }
   ],
   "source": [
    "post = df.iloc[0]\n",
    "post[\"title\"]"
   ]
  },
  {
   "cell_type": "code",
   "execution_count": 39,
   "metadata": {},
   "outputs": [
    {
     "data": {
      "text/plain": [
       "<praw.models.comment_forest.CommentForest at 0x7f7b91bd9d50>"
      ]
     },
     "execution_count": 39,
     "metadata": {},
     "output_type": "execute_result"
    }
   ],
   "source": [
    "post[\"comments\"]"
   ]
  },
  {
   "cell_type": "code",
   "execution_count": 35,
   "metadata": {},
   "outputs": [
    {
     "name": "stdout",
     "output_type": "stream",
     "text": [
      "<MoreComments count=100, children=['efzh66g', 'efzd2mg', 'efza7t4', '...']>\n",
      "<bound method MoreComments.comments of <MoreComments count=100, children=['efzh66g', 'efzd2mg', 'efza7t4', '...']>>\n"
     ]
    }
   ],
   "source": [
    "replies = {}\n",
    "\n",
    "for c in post[\"comments\"]:\n",
    "    try:\n",
    "        replies[c] = c.replies\n",
    "    except:\n",
    "        print(c)\n",
    "        print(c.comments)"
   ]
  },
  {
   "cell_type": "code",
   "execution_count": 36,
   "metadata": {},
   "outputs": [],
   "source": [
    "count = {}\n",
    "for c in list(replies.keys()):\n",
    "    rep = replies[c]\n",
    "    i = 0\n",
    "    for r in rep:\n",
    "        i+=1\n",
    "    count[c]=i "
   ]
  },
  {
   "cell_type": "code",
   "execution_count": 37,
   "metadata": {},
   "outputs": [
    {
     "data": {
      "text/plain": [
       "(Comment(id='efyqywi'), 13)"
      ]
     },
     "execution_count": 37,
     "metadata": {},
     "output_type": "execute_result"
    }
   ],
   "source": [
    "sorted(count.items(), key=lambda x: x[1], reverse=True)[0]"
   ]
  },
  {
   "cell_type": "code",
   "execution_count": 44,
   "metadata": {},
   "outputs": [
    {
     "name": "stdout",
     "output_type": "stream",
     "text": [
      "Text of the comment:\n",
      " ==============================\n",
      "Grammys need rappers more than rappers need Grammys. In the words of the most forthright of MCs “who gives a fuck about a gotdamn Grammy” \n",
      "\n",
      "One replie to the comment:\n",
      " ==============================\n",
      "They still have no respect for rap even though it’s the largest genre rn. Even if they’re nominated, they shouldn’t even go. \n"
     ]
    }
   ],
   "source": [
    "for c in post[\"comments\"]:\n",
    "  if c == 'efyqywi':\n",
    "    print('Text of the comment:\\n',\"=\"*30)\n",
    "    print(c.body)\n",
    "    print('\\nOne replie to the comment:\\n', \"=\"*30)\n",
    "    print([x for x in c.replies][0].body)"
   ]
  }
 ],
 "metadata": {
  "kernelspec": {
   "display_name": ".venv",
   "language": "python",
   "name": "python3"
  },
  "language_info": {
   "codemirror_mode": {
    "name": "ipython",
    "version": 3
   },
   "file_extension": ".py",
   "mimetype": "text/x-python",
   "name": "python",
   "nbconvert_exporter": "python",
   "pygments_lexer": "ipython3",
   "version": "3.10.12"
  }
 },
 "nbformat": 4,
 "nbformat_minor": 2
}
